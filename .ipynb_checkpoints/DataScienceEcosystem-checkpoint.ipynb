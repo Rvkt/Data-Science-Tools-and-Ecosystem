{
 "cells": [
  {
   "cell_type": "markdown",
   "id": "9444cae0-aa2c-4847-9cd8-036721f51f63",
   "metadata": {},
   "source": [
    "# Data Science Tools and Ecosystem"
   ]
  },
  {
   "cell_type": "markdown",
   "id": "9787af6d-9425-490d-a9bb-dcc6ff91dd2e",
   "metadata": {},
   "source": [
    "In this notebook, Data Science Tools and Ecosystem are summarized."
   ]
  },
  {
   "cell_type": "markdown",
   "id": "9b80c111-c399-4d16-ba26-e0f9cec24a91",
   "metadata": {},
   "source": [
    "Some of the popular languages that Data Scientists use are:\n",
    "1. Python\n",
    "2. R\n",
    "3. SQL\n",
    "4. Scala\n",
    "5. Julia"
   ]
  },
  {
   "cell_type": "markdown",
   "id": "2f8ee2eb-c27c-4acd-8c4b-ee14d9461bd3",
   "metadata": {},
   "source": [
    "Some of the commonly used libraries used by Data Scientists include:\n",
    "1. NumPy: For numerical computations and array operations.\n",
    "2. Pandas: For data manipulation and analysis.\n",
    "3. Matplotlib: For creating static, animated, and interactive visualizations,\n",
    "4. Scikit-learn: For machine learning algorithms,\n",
    "5. TensorFlow: For machine learning and deep learning."
   ]
  },
  {
   "cell_type": "markdown",
   "id": "902bd124-0e74-4ce8-a383-d01434ab8df1",
   "metadata": {},
   "source": [
    "| Data Science Tools |\n",
    "| ------------------ |\n",
    "| Jupyter Notebook   |\n",
    "| RStudio            |\n",
    "| VS Code            |"
   ]
  },
  {
   "cell_type": "markdown",
   "id": "a9ae6e9a-4eb6-402a-a8d1-87166957cc23",
   "metadata": {},
   "source": [
    "Below are a few examples of evaluating arithmetic expressions in Python"
   ]
  },
  {
   "cell_type": "code",
   "execution_count": 13,
   "id": "248aa894-cdea-482c-b146-42e2de5ea3f0",
   "metadata": {},
   "outputs": [
    {
     "data": {
      "text/plain": [
       "17"
      ]
     },
     "execution_count": 13,
     "metadata": {},
     "output_type": "execute_result"
    }
   ],
   "source": [
    "# This expression multiplies 3 by 4 and then adds 5 to the result\n",
    "result = (3 * 4) + 5\n",
    "\n",
    "print(result)  # Output: 17"
   ]
  },
  {
   "cell_type": "code",
   "execution_count": 15,
   "id": "01c5ec36-ef92-497d-ba64-9f67cff08354",
   "metadata": {},
   "outputs": [
    {
     "name": "stdout",
     "output_type": "stream",
     "text": [
      "3 hours and 20 minutes\n"
     ]
    }
   ],
   "source": [
    "# This will convert 200 minutes to hours by dividing by 60\n",
    "minutes = 200\n",
    "\n",
    "# Integer division to get the whole number of hours\n",
    "hours = minutes // 60\n",
    "\n",
    "# Modulo operation to get the remaining minutes\n",
    "remaining_minutes = minutes % 60\n",
    "\n",
    "# Print the result in a formatted string\n",
    "print(f\"{hours} hours and {remaining_minutes} minutes\")"
   ]
  },
  {
   "cell_type": "markdown",
   "id": "daae9659-654b-4a44-ba86-46e389fd2ed5",
   "metadata": {},
   "source": [
    "**Objectives:**\n",
    "- List popular languages for Data Science.\n",
    "- List popular libraries for Data Science.\n",
    "- Introduce Data Science Tools.\n",
    "- Perform basic arithmetic operations in Python.\n",
    "- Convert minutes to hours in Python.\n",
    "\n",
    "**Some Additional Objectives:**\n",
    "- Understanding Jupyter Notebook interface and basic operations\n",
    "- Using Markdown cells to format text and add structure to the notebook\n",
    "- Executing Python code within a Jupyter Notebook\n",
    "- Sharing Jupyter Notebooks with others"
   ]
  },
  {
   "cell_type": "markdown",
   "id": "07cc90e4-11ae-4400-9581-d9d9f4673715",
   "metadata": {},
   "source": [
    "\n",
    "## Author\n",
    "\n",
    "Ravikant"
   ]
  },
  {
   "cell_type": "code",
   "execution_count": null,
   "id": "13e17049-1659-4a19-8528-cd92aef2cd93",
   "metadata": {},
   "outputs": [],
   "source": []
  }
 ],
 "metadata": {
  "kernelspec": {
   "display_name": "Python 3 (ipykernel)",
   "language": "python",
   "name": "python3"
  },
  "language_info": {
   "codemirror_mode": {
    "name": "ipython",
    "version": 3
   },
   "file_extension": ".py",
   "mimetype": "text/x-python",
   "name": "python",
   "nbconvert_exporter": "python",
   "pygments_lexer": "ipython3",
   "version": "3.11.5"
  }
 },
 "nbformat": 4,
 "nbformat_minor": 5
}
