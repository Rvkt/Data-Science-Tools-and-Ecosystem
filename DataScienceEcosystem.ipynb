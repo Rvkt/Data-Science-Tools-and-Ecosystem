{
 "cells": [
  {
   "cell_type": "markdown",
   "id": "9444cae0-aa2c-4847-9cd8-036721f51f63",
   "metadata": {},
   "source": [
    "# Data Science Tools and Ecosystem"
   ]
  },
  {
   "cell_type": "markdown",
   "id": "2dc78431-90a2-4064-ac1a-4baa984290f5",
   "metadata": {},
   "source": [
    "In this notebook, Data Science Tools and Ecosystem are summarized."
   ]
  },
  {
   "cell_type": "markdown",
   "id": "7bc6b22d-5168-4bb4-836a-64948b5c1c82",
   "metadata": {},
   "source": [
    "Some of the popular languages that Data Scientists use are:\n",
    "1. Python\n",
    "2. R\n",
    "3. SQL\n",
    "4. Scala\n",
    "5. Julia"
   ]
  },
  {
   "cell_type": "markdown",
   "id": "467a412d-da6e-4a86-a6df-9bf4f16aadf3",
   "metadata": {},
   "source": [
    "Some of the commonly used libraries used by Data Scientists include:\n",
    "1. NumPy: For numerical computations and array operations.\n",
    "2. Pandas: For data manipulation and analysis.\n",
    "3. Matplotlib: For creating static, animated, and interactive visualizations,\n",
    "4. Scikit-learn: For machine learning algorithms,\n",
    "5. TensorFlow: For machine learning and deep learning."
   ]
  },
  {
   "cell_type": "markdown",
   "id": "ebc43041-c039-4c51-a385-6398467150e7",
   "metadata": {},
   "source": [
    "| Data Science Tools |\n",
    "| ------------------ |\n",
    "| Jupyter Notebook   |\n",
    "| RStudio            |\n",
    "| VS Code            |"
   ]
  },
  {
   "cell_type": "markdown",
   "id": "bcd176bf-6f1c-431a-9a66-10e360a127ae",
   "metadata": {},
   "source": [
    "Below are a few examples of evaluating arithmetic expressions in Python"
   ]
  },
  {
   "cell_type": "code",
   "execution_count": null,
   "id": "1bf70f6c-f2cf-43ff-8d06-e8e8225c7ce7",
   "metadata": {},
   "outputs": [],
   "source": [
    "# This expression multiplies 3 by 4 and then adds 5 to the result\n",
    "result = (3 * 4) + 5\n",
    "\n",
    "print(result)  # Output: 17"
   ]
  },
  {
   "cell_type": "code",
   "execution_count": null,
   "id": "cd39fef4-6612-4b1b-8b8f-76e32f0344a8",
   "metadata": {},
   "outputs": [],
   "source": [
    "# This will convert 200 minutes to hours by dividing by 60\n",
    "minutes = 200\n",
    "\n",
    "# Integer division to get the whole number of hours\n",
    "hours = minutes // 60\n",
    "\n",
    "# Modulo operation to get the remaining minutes\n",
    "remaining_minutes = minutes % 60\n",
    "\n",
    "# Print the result in a formatted string\n",
    "print(f\"{hours} hours and {remaining_minutes} minutes\")"
   ]
  },
  {
   "cell_type": "markdown",
   "id": "8f91bbcd-12f4-46fe-beca-033dc52e7bb6",
   "metadata": {},
   "source": [
    "**Objectives:**\n",
    "- List popular languages for Data Science.\n",
    "- List popular libraries for Data Science.\n",
    "- Introduce Data Science Tools.\n",
    "- Perform basic arithmetic operations in Python.\n",
    "- Convert minutes to hours in Python.\n",
    "\n",
    "**Some Additional Objectives:**\n",
    "- Understanding Jupyter Notebook interface and basic operations\n",
    "- Using Markdown cells to format text and add structure to the notebook\n",
    "- Executing Python code within a Jupyter Notebook\n",
    "- Sharing Jupyter Notebooks with others"
   ]
  },
  {
   "cell_type": "markdown",
   "id": "08759fff-ef5b-47ef-87bd-f50b9b26af74",
   "metadata": {},
   "source": [
    "## Author\n",
    "Ravikant"
   ]
  },
  {
   "cell_type": "code",
   "execution_count": null,
   "id": "7239d965-e032-4556-924d-077b2ce636de",
   "metadata": {},
   "outputs": [],
   "source": []
  }
 ],
 "metadata": {
  "kernelspec": {
   "display_name": "Python 3 (ipykernel)",
   "language": "python",
   "name": "python3"
  },
  "language_info": {
   "codemirror_mode": {
    "name": "ipython",
    "version": 3
   },
   "file_extension": ".py",
   "mimetype": "text/x-python",
   "name": "python",
   "nbconvert_exporter": "python",
   "pygments_lexer": "ipython3",
   "version": "3.11.5"
  }
 },
 "nbformat": 4,
 "nbformat_minor": 5
}
